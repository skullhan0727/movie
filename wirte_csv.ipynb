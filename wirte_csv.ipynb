{
 "cells": [
  {
   "cell_type": "code",
   "execution_count": 3,
   "metadata": {},
   "outputs": [],
   "source": [
    "movie_list=[]\n",
    "with open('C:/Users/張孟涵/Desktop/IMDB-Movie-Data.csv','r') as f:\n",
    "\tf.readline()\n",
    "\tfor line in f:\n",
    "\t\tline.strip(\"\\n\")\n",
    "\t\tdata=line.split(\",\")\n",
    "\t\trank=data[0]\n",
    "\t\ttitle=data[1]\n",
    "\t\tgenre=data[2].split(\"|\")\n",
    "\t\tfor i in range(len(genre)):\n",
    "\t\t\tgenre[i]=genre[i].strip()\n",
    "\t\tdirector=data[3]\n",
    "\t\tactor=data[4]\n",
    "\t\tyear=data[5]\n",
    "\t\truntime=data[6]\n",
    "\t\trating=data[7]\n",
    "\t\tvotes=data[8]\n",
    "\t\trevenue=data[9]\n",
    "\t\tmetascore=data[10].strip()\n",
    "\t\tfor i in range(len(genre)):\n",
    "\t\t\tmovie_list.append([rank,title,genre[i],director,actor,year,runtime,rating,votes,revenue,metascore])\n"
   ]
  },
  {
   "cell_type": "code",
   "execution_count": 24,
   "metadata": {},
   "outputs": [],
   "source": [
    "import pandas as pd \n",
    "movie_dataframe=pd.DataFrame(movie_list,columns= ['Rank','Title','Genre','Director','Actor','Year','Runtime(Minutes)','Rating','Votes','Revenue','Metascore(Millions)'])"
   ]
  },
  {
   "cell_type": "code",
   "execution_count": 26,
   "metadata": {},
   "outputs": [],
   "source": [
    "movie_dataframe.to_csv('genre.csv',index=False)"
   ]
  },
  {
   "cell_type": "code",
   "execution_count": 25,
   "metadata": {},
   "outputs": [],
   "source": [
    "movie_list=[]\n",
    "with open('C:/Users/張孟涵/Desktop/IMDB-Movie-Data.csv','r') as f:\n",
    "\tf.readline()\n",
    "\tfor line in f:\n",
    "\t\tline.strip(\"\\n\")\n",
    "\t\tdata=line.split(\",\")\n",
    "\t\trank=data[0]\n",
    "\t\ttitle=data[1]\n",
    "\t\tgenre=data[2]\n",
    "\t\tdirector=data[3]\n",
    "\t\tactor=data[4].split(\"|\")\n",
    "\t\tfor i in range(len(actor)):\n",
    "\t\t\tactor[i]=actor[i].strip()\n",
    "\t\tyear=data[5]\n",
    "\t\truntime=data[6]\n",
    "\t\trating=data[7]\n",
    "\t\tvotes=data[8]\n",
    "\t\trevenue=data[9]\n",
    "\t\tmetascore=data[10].strip()\n",
    "\t\tfor i in range(len(actor)):\n",
    "\t\t\tmovie_list.append([rank,title,genre,director,actor[i],year,runtime,rating,votes,revenue,metascore])\n"
   ]
  },
  {
   "cell_type": "code",
   "execution_count": 27,
   "metadata": {},
   "outputs": [],
   "source": [
    "movie_dataframe=pd.DataFrame(movie_list,columns= ['Rank','Title','Genre','Director','Actor','Year','Runtime(Minutes)','Rating','Votes','Revenue','Metascore(Millions)'])"
   ]
  },
  {
   "cell_type": "code",
   "execution_count": 28,
   "metadata": {},
   "outputs": [],
   "source": [
    "movie_dataframe.to_csv('actor.csv',index=False)"
   ]
  }
 ],
 "metadata": {
  "kernelspec": {
   "display_name": "Python 3",
   "language": "python",
   "name": "python3"
  },
  "language_info": {
   "codemirror_mode": {
    "name": "ipython",
    "version": 3
   },
   "file_extension": ".py",
   "mimetype": "text/x-python",
   "name": "python",
   "nbconvert_exporter": "python",
   "pygments_lexer": "ipython3",
   "version": "3.7.2"
  }
 },
 "nbformat": 4,
 "nbformat_minor": 2
}
